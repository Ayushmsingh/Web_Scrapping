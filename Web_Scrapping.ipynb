{
 "cells": [
  {
   "cell_type": "code",
   "execution_count": 27,
   "id": "18869956-d7ba-40bf-8d3b-0360ae76c46d",
   "metadata": {},
   "outputs": [
    {
     "name": "stdout",
     "output_type": "stream",
     "text": [
      "  SR. NO.                                       TEAM FUNDS REMAINING  \\\n",
      "0    None          \\n\\n\\n\\n\\nChennai Super Kings\\n\\n    ₹2,95,00,000   \n",
      "1    None               \\n\\n\\n\\n\\nDelhi Capitals\\n\\n      ₹10,00,000   \n",
      "2    None               \\n\\n\\n\\n\\nGujarat Titans\\n\\n      ₹15,00,000   \n",
      "3    None        \\n\\n\\n\\n\\nKolkata Knight Riders\\n\\n      ₹45,00,000   \n",
      "4    None         \\n\\n\\n\\n\\nLucknow Super Giants\\n\\n              ₹0   \n",
      "5    None               \\n\\n\\n\\n\\nMumbai Indians\\n\\n      ₹10,00,000   \n",
      "6    None                 \\n\\n\\n\\n\\nPunjab Kings\\n\\n    ₹3,45,00,000   \n",
      "7    None             \\n\\n\\n\\n\\nRajasthan Royals\\n\\n      ₹95,00,000   \n",
      "8    None  \\n\\n\\n\\n\\nRoyal Challengers Bangalore\\n\\n    ₹1,55,00,000   \n",
      "9    None          \\n\\n\\n\\n\\nSunrisers Hyderabad\\n\\n      ₹10,00,000   \n",
      "\n",
      "  OVERSEAS PLAYERS  TOTAL PLAYERS  \n",
      "0                 8            25  \n",
      "1                 7            24  \n",
      "2                 8            23  \n",
      "3                 8            25  \n",
      "4                 7            21  \n",
      "5                 8            25  \n",
      "6                 7            25  \n",
      "7                 8            24  \n",
      "8                 8            22  \n",
      "9                 8            23  \n"
     ]
    }
   ],
   "source": [
    "import requests\n",
    "from bs4 import BeautifulSoup\n",
    "import pandas as pd\n",
    "\n",
    "url = requests.get(\"https://www.iplt20.com/auction/2022\")\n",
    "#print(url)\n",
    "\n",
    "soup = BeautifulSoup(url.text,\"lxml\")\n",
    "#print(soup)\n",
    "#th as table head\n",
    "#td as table data\n",
    "#tr as table row \n",
    "\n",
    "table = soup.find(\"table\",class_ = \"ih-td-tab w-100 auction-tbl\")\n",
    "title = table.find_all(\"th\")\n",
    "#print(title)\n",
    "\n",
    "header = []\n",
    "for i in title:\n",
    "    tag = i.text\n",
    "    header.append(tag)\n",
    "\n",
    "#print(header)\n",
    "df = pd.DataFrame(columns= header)\n",
    "#print(df)\n",
    "rows = table.find_all(\"tr\")\n",
    "for i in rows[1:]:\n",
    "    first_td = i.find_all(\"td\")[0].find(\"div\", class_ = \"ih-pt-ic\")\n",
    "    data = i.find_all(\"td\")[1:]\n",
    "    rows = [tr.text for tr in data]\n",
    "    rows.insert(0,first_td)\n",
    "    l = len(df)\n",
    "    df.loc[l] =  rows\n",
    "\n",
    "print(df)\n",
    "\n",
    "df.to_csv(\"ipl auction stats.csv\")\n",
    "\n",
    "\n"
   ]
  }
 ],
 "metadata": {
  "kernelspec": {
   "display_name": "Python [conda env:base] *",
   "language": "python",
   "name": "conda-base-py"
  },
  "language_info": {
   "codemirror_mode": {
    "name": "ipython",
    "version": 3
   },
   "file_extension": ".py",
   "mimetype": "text/x-python",
   "name": "python",
   "nbconvert_exporter": "python",
   "pygments_lexer": "ipython3",
   "version": "3.12.7"
  }
 },
 "nbformat": 4,
 "nbformat_minor": 5
}
